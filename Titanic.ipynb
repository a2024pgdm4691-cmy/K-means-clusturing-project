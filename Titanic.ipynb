{
 "cells": [
  {
   "cell_type": "code",
   "execution_count": 1,
   "id": "d9e2cc33-bce7-473b-82b1-d5efd8d92185",
   "metadata": {},
   "outputs": [
    {
     "data": {
      "text/html": [
       "<div>\n",
       "<style scoped>\n",
       "    .dataframe tbody tr th:only-of-type {\n",
       "        vertical-align: middle;\n",
       "    }\n",
       "\n",
       "    .dataframe tbody tr th {\n",
       "        vertical-align: top;\n",
       "    }\n",
       "\n",
       "    .dataframe thead th {\n",
       "        text-align: right;\n",
       "    }\n",
       "</style>\n",
       "<table border=\"1\" class=\"dataframe\">\n",
       "  <thead>\n",
       "    <tr style=\"text-align: right;\">\n",
       "      <th></th>\n",
       "      <th>PassengerId</th>\n",
       "      <th>Survived</th>\n",
       "      <th>Pclass</th>\n",
       "      <th>Name</th>\n",
       "      <th>Sex</th>\n",
       "      <th>Age</th>\n",
       "      <th>SibSp</th>\n",
       "      <th>Parch</th>\n",
       "      <th>Ticket</th>\n",
       "      <th>Fare</th>\n",
       "      <th>Cabin</th>\n",
       "      <th>Embarked</th>\n",
       "    </tr>\n",
       "  </thead>\n",
       "  <tbody>\n",
       "    <tr>\n",
       "      <th>0</th>\n",
       "      <td>1</td>\n",
       "      <td>0</td>\n",
       "      <td>3</td>\n",
       "      <td>Braund, Mr. Owen Harris</td>\n",
       "      <td>male</td>\n",
       "      <td>22.0</td>\n",
       "      <td>1</td>\n",
       "      <td>0</td>\n",
       "      <td>A/5 21171</td>\n",
       "      <td>7.2500</td>\n",
       "      <td>NaN</td>\n",
       "      <td>S</td>\n",
       "    </tr>\n",
       "    <tr>\n",
       "      <th>1</th>\n",
       "      <td>2</td>\n",
       "      <td>1</td>\n",
       "      <td>1</td>\n",
       "      <td>Cumings, Mrs. John Bradley (Florence Briggs Th...</td>\n",
       "      <td>female</td>\n",
       "      <td>38.0</td>\n",
       "      <td>1</td>\n",
       "      <td>0</td>\n",
       "      <td>PC 17599</td>\n",
       "      <td>71.2833</td>\n",
       "      <td>C85</td>\n",
       "      <td>C</td>\n",
       "    </tr>\n",
       "    <tr>\n",
       "      <th>2</th>\n",
       "      <td>3</td>\n",
       "      <td>1</td>\n",
       "      <td>3</td>\n",
       "      <td>Heikkinen, Miss. Laina</td>\n",
       "      <td>female</td>\n",
       "      <td>26.0</td>\n",
       "      <td>0</td>\n",
       "      <td>0</td>\n",
       "      <td>STON/O2. 3101282</td>\n",
       "      <td>7.9250</td>\n",
       "      <td>NaN</td>\n",
       "      <td>S</td>\n",
       "    </tr>\n",
       "    <tr>\n",
       "      <th>3</th>\n",
       "      <td>4</td>\n",
       "      <td>1</td>\n",
       "      <td>1</td>\n",
       "      <td>Futrelle, Mrs. Jacques Heath (Lily May Peel)</td>\n",
       "      <td>female</td>\n",
       "      <td>35.0</td>\n",
       "      <td>1</td>\n",
       "      <td>0</td>\n",
       "      <td>113803</td>\n",
       "      <td>53.1000</td>\n",
       "      <td>C123</td>\n",
       "      <td>S</td>\n",
       "    </tr>\n",
       "    <tr>\n",
       "      <th>4</th>\n",
       "      <td>5</td>\n",
       "      <td>0</td>\n",
       "      <td>3</td>\n",
       "      <td>Allen, Mr. William Henry</td>\n",
       "      <td>male</td>\n",
       "      <td>35.0</td>\n",
       "      <td>0</td>\n",
       "      <td>0</td>\n",
       "      <td>373450</td>\n",
       "      <td>8.0500</td>\n",
       "      <td>NaN</td>\n",
       "      <td>S</td>\n",
       "    </tr>\n",
       "  </tbody>\n",
       "</table>\n",
       "</div>"
      ],
      "text/plain": [
       "   PassengerId  Survived  Pclass  \\\n",
       "0            1         0       3   \n",
       "1            2         1       1   \n",
       "2            3         1       3   \n",
       "3            4         1       1   \n",
       "4            5         0       3   \n",
       "\n",
       "                                                Name     Sex   Age  SibSp  \\\n",
       "0                            Braund, Mr. Owen Harris    male  22.0      1   \n",
       "1  Cumings, Mrs. John Bradley (Florence Briggs Th...  female  38.0      1   \n",
       "2                             Heikkinen, Miss. Laina  female  26.0      0   \n",
       "3       Futrelle, Mrs. Jacques Heath (Lily May Peel)  female  35.0      1   \n",
       "4                           Allen, Mr. William Henry    male  35.0      0   \n",
       "\n",
       "   Parch            Ticket     Fare Cabin Embarked  \n",
       "0      0         A/5 21171   7.2500   NaN        S  \n",
       "1      0          PC 17599  71.2833   C85        C  \n",
       "2      0  STON/O2. 3101282   7.9250   NaN        S  \n",
       "3      0            113803  53.1000  C123        S  \n",
       "4      0            373450   8.0500   NaN        S  "
      ]
     },
     "execution_count": 1,
     "metadata": {},
     "output_type": "execute_result"
    }
   ],
   "source": [
    "import pandas as pd\n",
    "\n",
    "# Load the dataset correctly\n",
    "df = pd.read_csv(\"https://raw.githubusercontent.com/datasciencedojo/datasets/master/titanic.csv\")\n",
    "\n",
    "# Display the first few rows\n",
    "df.head()"
   ]
  },
  {
   "cell_type": "code",
   "execution_count": 2,
   "id": "be5ae7c8-ee2e-4c6a-b132-ad361a8c840e",
   "metadata": {},
   "outputs": [
    {
     "name": "stdout",
     "output_type": "stream",
     "text": [
      "Outliers detected:\n",
      "5    100\n",
      "dtype: int64\n"
     ]
    }
   ],
   "source": [
    "import pandas as pd\n",
    "\n",
    "# Create a pandas Series\n",
    "data = pd.Series([10, 12, 14, 15, 18, 100])  # 100 is an outlier\n",
    "\n",
    "# Calculate Q1 and Q3\n",
    "Q1 = data.quantile(0.25)\n",
    "Q3 = data.quantile(0.75)\n",
    "\n",
    "# Interquartile Range (IQR)\n",
    "IQR = Q3 - Q1\n",
    "\n",
    "# Detect outliers\n",
    "lower_bound = Q1 - 1.5 * IQR\n",
    "upper_bound = Q3 + 1.5 * IQR\n",
    "\n",
    "# Filter out the outliers\n",
    "outliers = data[(data < lower_bound) | (data > upper_bound)]\n",
    "\n",
    "print(\"Outliers detected:\")\n",
    "print(outliers)"
   ]
  },
  {
   "cell_type": "code",
   "execution_count": 3,
   "id": "181afbee-a5fe-4234-a808-2d9f7f311c4d",
   "metadata": {},
   "outputs": [
    {
     "name": "stdout",
     "output_type": "stream",
     "text": [
      "Mean: 30.0\n"
     ]
    }
   ],
   "source": [
    "import numpy as np  # Spelling corrected\n",
    "\n",
    "# Sample data for mean calculation\n",
    "data = [10, 20, 30, 40, 50]  # Bracket corrected\n",
    "\n",
    "# Calculate mean\n",
    "mean = np.mean(data)\n",
    "print(\"Mean:\", mean)"
   ]
  },
  {
   "cell_type": "code",
   "execution_count": 2,
   "id": "a440abda-0ee8-4392-b50c-08732fb18007",
   "metadata": {},
   "outputs": [
    {
     "name": "stdout",
     "output_type": "stream",
     "text": [
      "CustomerID           0\n",
      "AnnualSpending       0\n",
      "PurchaseFrequency    0\n",
      "AvgOrderValue        0\n",
      "dtype: int64\n"
     ]
    }
   ],
   "source": [
    "import pandas as pd\n",
    "\n",
    "# Sample customer dataset\n",
    "data = {\n",
    "    'CustomerID': [1, 2, 3, 4, 5],\n",
    "    'AnnualSpending': [12000, 8000, 15000, 6000, 10000],\n",
    "    'PurchaseFrequency': [120, 100, 150, 80, 110],\n",
    "    'AvgOrderValue': [100, 80, 100, 75, 90]\n",
    "}\n",
    "\n",
    "# Create the DataFrame\n",
    "df = pd.DataFrame(data)\n",
    "\n",
    "# Now check for missing values\n",
    "print(df.isnull().sum())\n",
    "\n"
   ]
  },
  {
   "cell_type": "code",
   "execution_count": 4,
   "id": "8e22491f-2f07-4531-b02e-0137ff9d19ce",
   "metadata": {},
   "outputs": [
    {
     "name": "stdout",
     "output_type": "stream",
     "text": [
      "Mean Price: 275000.0\n"
     ]
    }
   ],
   "source": [
    "import numpy as np\n",
    "import pandas as pd\n",
    "\n",
    "# Example DataFrame (you can replace this with your own)\n",
    "data = {\n",
    "    'price': [250000, 270000, None, 300000, 280000]\n",
    "}\n",
    "df = pd.DataFrame(data)\n",
    "\n",
    "# Now calculate the mean of 'price' column after dropping NaNs\n",
    "mean_price = np.mean(df['price'].dropna())\n",
    "print(\"Mean Price:\", mean_price)\n"
   ]
  },
  {
   "cell_type": "code",
   "execution_count": 7,
   "id": "cf94cd86-60e6-4f9f-9c22-d0abaafc17bf",
   "metadata": {},
   "outputs": [
    {
     "ename": "SyntaxError",
     "evalue": "incomplete input (4218906967.py, line 21)",
     "output_type": "error",
     "traceback": [
      "\u001b[1;36m  Cell \u001b[1;32mIn[7], line 21\u001b[1;36m\u001b[0m\n\u001b[1;33m    print(\"\\\u001b[0m\n\u001b[1;37m          ^\u001b[0m\n\u001b[1;31mSyntaxError\u001b[0m\u001b[1;31m:\u001b[0m incomplete input\n"
     ]
    }
   ],
   "source": [
    "import pandas as pd\n",
    "import numpy as np\n",
    "\n",
    "# Step 1: Load your dataset (replace 'your_file.csv' with your actual file)\n",
    "df = pd.read_csv('your_file.csv')  # Or use Excel: pd.read_excel('your_file.xlsx')\n",
    "\n",
    "# Step 2: View column names to check for exact balcony column name\n",
    "print(\"Column names in the dataset:\")\n",
    "print(df.columns.tolist())\n",
    "\n",
    "# Optional: Look for any column similar to 'balcony' (case insensitive)\n",
    "for col in df.columns:\n",
    "    if 'balcony' in col.lower():\n",
    "        print(\"Possible balcony column found:\", col)\n",
    "\n",
    "# Step 3: Let's say the correct column is 'balconies' (adjust this based on output above)\n",
    "# Replace 'balconies' with actual column name\n",
    "column_name = 'balconies'  # <-- UPDATE this after running the print above\n",
    "\n",
    "# Step 4: Check how many nulls are there\n",
    "print(\"\\\n"
   ]
  },
  {
   "cell_type": "code",
   "execution_count": null,
   "id": "8a83f0c6-d54d-4811-88eb-635f23c7db18",
   "metadata": {},
   "outputs": [],
   "source": [
    "print(\"After filling, null in balcony':\",df['balcony'}.insull().sum())"
   ]
  },
  {
   "cell_type": "code",
   "execution_count": null,
   "id": "ab6cdffc-1898-456c-89f7-1f70a0b74f04",
   "metadata": {},
   "outputs": [],
   "source": [
    "After filling, nulls in 'balcony':\",df['balcony'].insull"
   ]
  },
  {
   "cell_type": "code",
   "execution_count": 9,
   "id": "1505c740-5af8-45a5-8eda-f13315059a69",
   "metadata": {},
   "outputs": [
    {
     "ename": "SyntaxError",
     "evalue": "expected ':' (3393900249.py, line 3)",
     "output_type": "error",
     "traceback": [
      "\u001b[1;36m  Cell \u001b[1;32mIn[9], line 3\u001b[1;36m\u001b[0m\n\u001b[1;33m    if':'\u001b[0m\n\u001b[1;37m         ^\u001b[0m\n\u001b[1;31mSyntaxError\u001b[0m\u001b[1;31m:\u001b[0m expected ':'\n"
     ]
    }
   ],
   "source": [
    "def convert_sqft_to_float(x):\n",
    "    try:\n",
    "        if':'\n",
    "           in x:tokens = x.split('_')\n",
    "           return (float(tokens[0]) + flot(tokens[1]))/2\n",
    "        return Float(x)\n",
    "    except:\n",
    "        returnnp.nan # if conversion fails, return Nan"
   ]
  },
  {
   "cell_type": "code",
   "execution_count": 13,
   "id": "fe7b986b-6c97-4edc-860b-23530188b362",
   "metadata": {},
   "outputs": [
    {
     "ename": "NameError",
     "evalue": "name 'df' is not defined",
     "output_type": "error",
     "traceback": [
      "\u001b[1;31m---------------------------------------------------------------------------\u001b[0m",
      "\u001b[1;31mNameError\u001b[0m                                 Traceback (most recent call last)",
      "Cell \u001b[1;32mIn[13], line 1\u001b[0m\n\u001b[1;32m----> 1\u001b[0m df[\u001b[38;5;124m'\u001b[39m\u001b[38;5;124mline 10\u001b[39m\u001b[38;5;124m'\u001b[39m]\u001b[38;5;241m.\u001b[39minsull()\u001b[38;5;241m.\u001b[39msum()\n",
      "\u001b[1;31mNameError\u001b[0m: name 'df' is not defined"
     ]
    }
   ],
   "source": [
    "df['line 10'].insull().sum()"
   ]
  },
  {
   "cell_type": "code",
   "execution_count": 15,
   "id": "fb335a05-5004-40d6-86e2-e97e7d854070",
   "metadata": {},
   "outputs": [
    {
     "ename": "SyntaxError",
     "evalue": "invalid syntax (3842208442.py, line 1)",
     "output_type": "error",
     "traceback": [
      "\u001b[1;36m  Cell \u001b[1;32mIn[15], line 1\u001b[1;36m\u001b[0m\n\u001b[1;33m    1 Print(\"In[14], line 1:\", df['location'].isnull().sum())\u001b[0m\n\u001b[1;37m      ^\u001b[0m\n\u001b[1;31mSyntaxError\u001b[0m\u001b[1;31m:\u001b[0m invalid syntax\n"
     ]
    }
   ],
   "source": [
    "1 Print(\"Remaing Nulls in locstion:\", df['location'].isnull().sum())"
   ]
  },
  {
   "cell_type": "code",
   "execution_count": 16,
   "id": "b42b1988-86e6-4f52-9e15-54b6d41a92d4",
   "metadata": {},
   "outputs": [
    {
     "ename": "SyntaxError",
     "evalue": "unmatched ')' (1226367477.py, line 1)",
     "output_type": "error",
     "traceback": [
      "\u001b[1;36m  Cell \u001b[1;32mIn[16], line 1\u001b[1;36m\u001b[0m\n\u001b[1;33m    df.drop('society'),axis=1, inplace=True)\u001b[0m\n\u001b[1;37m                                           ^\u001b[0m\n\u001b[1;31mSyntaxError\u001b[0m\u001b[1;31m:\u001b[0m unmatched ')'\n"
     ]
    }
   ],
   "source": [
    "df.drop('society'),axis=1, inplace=True)"
   ]
  },
  {
   "cell_type": "code",
   "execution_count": 17,
   "id": "4503368a-2b5f-4689-832f-3772aa4d9866",
   "metadata": {},
   "outputs": [
    {
     "ename": "NameError",
     "evalue": "name 'df' is not defined",
     "output_type": "error",
     "traceback": [
      "\u001b[1;31m---------------------------------------------------------------------------\u001b[0m",
      "\u001b[1;31mNameError\u001b[0m                                 Traceback (most recent call last)",
      "Cell \u001b[1;32mIn[17], line 1\u001b[0m\n\u001b[1;32m----> 1\u001b[0m df[\u001b[38;5;124m'\u001b[39m\u001b[38;5;124mLocation\u001b[39m\u001b[38;5;124m'\u001b[39m]\u001b[38;5;241m.\u001b[39mfillina(df[\u001b[38;5;124m'\u001b[39m\u001b[38;5;124mlocation\u001b[39m\u001b[38;5;124m'\u001b[39m]\u001b[38;5;241m.\u001b[39mmode()[\u001b[38;5;241m0\u001b[39m], inplace\u001b[38;5;241m=\u001b[39m\u001b[38;5;28;01mTrue\u001b[39;00m)\n",
      "\u001b[1;31mNameError\u001b[0m: name 'df' is not defined"
     ]
    }
   ],
   "source": [
    "df['Location'].fillina(df['location'].mode()[0], inplace=True)"
   ]
  },
  {
   "cell_type": "code",
   "execution_count": null,
   "id": "827b0e84-984e-4140-bfee-dc8307c36d7f",
   "metadata": {},
   "outputs": [],
   "source": [
    "data={10,20.30.40.50]\n",
    "var=np.var(data)\n",
    "std=np.std(data)\n",
    "Print(\"Varience\",var) "
   ]
  },
  {
   "cell_type": "code",
   "execution_count": 19,
   "id": "6ad02e12-ba82-43c5-b363-1fe49eda953a",
   "metadata": {},
   "outputs": [
    {
     "ename": "SyntaxError",
     "evalue": "invalid syntax (2519128321.py, line 1)",
     "output_type": "error",
     "traceback": [
      "\u001b[1;36m  Cell \u001b[1;32mIn[19], line 1\u001b[1;36m\u001b[0m\n\u001b[1;33m    pip install from sklearn.preprocessingnimport lebelEncoder\u001b[0m\n\u001b[1;37m        ^\u001b[0m\n\u001b[1;31mSyntaxError\u001b[0m\u001b[1;31m:\u001b[0m invalid syntax\n"
     ]
    }
   ],
   "source": [
    "from sklearn.preprocessingnimport lebelEncoder\n",
    "\n",
    "data=['sales','female','male','female','female']\n",
    "le = lablEncoder()\n",
    "\n",
    "encoded=le.flt_transform(data)\n",
    "print(encoded)  # output: [1 0 1 0 0]"
   ]
  },
  {
   "cell_type": "code",
   "execution_count": null,
   "id": "fa0a91bd-abb6-4cc0-a217-b9a9c9a1ce59",
   "metadata": {},
   "outputs": [],
   "source": [
    "from sklearn.processing importimport LabelEncoder\n",
    "\n",
    "df['area_type'} # suppose values ['super built-up Area', 'Plot Area', 'Build-up Area']  \n",
    "df['area_type_encoded'] = le.fit_transdform(df['area_type'])\n"
   ]
  },
  {
   "cell_type": "code",
   "execution_count": 20,
   "id": "dc2d3028-7694-46fd-bdea-c62c71434938",
   "metadata": {},
   "outputs": [
    {
     "ename": "SyntaxError",
     "evalue": "unterminated string literal (detected at line 1) (1619084234.py, line 1)",
     "output_type": "error",
     "traceback": [
      "\u001b[1;36m  Cell \u001b[1;32mIn[20], line 1\u001b[1;36m\u001b[0m\n\u001b[1;33m    df_encoded = pd get_dummies(df, column=['area_type , 'avalability', 'location'], drop_first=True)\u001b[0m\n\u001b[1;37m                                                                                 ^\u001b[0m\n\u001b[1;31mSyntaxError\u001b[0m\u001b[1;31m:\u001b[0m unterminated string literal (detected at line 1)\n"
     ]
    }
   ],
   "source": [
    "df_encoded = pd get_dummies(df, column=['area_type , 'availability' , 'locality'], drop_first=True)\n",
    "print(df_encoded.head())                                        "
   ]
  },
  {
   "cell_type": "code",
   "execution_count": 21,
   "id": "0f75c138-d71d-4c43-8755-c99bbfa1b452",
   "metadata": {},
   "outputs": [
    {
     "ename": "SyntaxError",
     "evalue": "invalid syntax (291367554.py, line 2)",
     "output_type": "error",
     "traceback": [
      "\u001b[1;36m  Cell \u001b[1;32mIn[21], line 2\u001b[1;36m\u001b[0m\n\u001b[1;33m    from scipy import stats round\u001b[0m\n\u001b[1;37m                            ^\u001b[0m\n\u001b[1;31mSyntaxError\u001b[0m\u001b[1;31m:\u001b[0m invalid syntax\n"
     ]
    }
   ],
   "source": [
    "import numpty as np\n",
    "from scipy import stats round\n",
    "#sample data:heightrs of students (in cm)\n",
    "sample_heights = [158, 162, 161, 159, 160, 157, 163,160]\n",
    "\n",
    "#Null hypothesis: mean = 160\n",
    "t_stat, p_value = ststs.ttest_1samp(sample_heights, popmean = 160)\n",
    "\n",
    "print(\"t-statistic\", round(t_stat,3))\n",
    "print(\"p-value:\",round(p_value,3))"
   ]
  },
  {
   "cell_type": "code",
   "execution_count": null,
   "id": "9524023b-607a-4a35-aedf-f4f9e35f825f",
   "metadata": {},
   "outputs": [],
   "source": []
  }
 ],
 "metadata": {
  "kernelspec": {
   "display_name": "Python 3 (ipykernel)",
   "language": "python",
   "name": "python3"
  },
  "language_info": {
   "codemirror_mode": {
    "name": "ipython",
    "version": 3
   },
   "file_extension": ".py",
   "mimetype": "text/x-python",
   "name": "python",
   "nbconvert_exporter": "python",
   "pygments_lexer": "ipython3",
   "version": "3.12.7"
  }
 },
 "nbformat": 4,
 "nbformat_minor": 5
}
